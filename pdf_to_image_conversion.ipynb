{
 "cells": [
  {
   "cell_type": "code",
   "execution_count": 1,
   "id": "0ac39c6e",
   "metadata": {},
   "outputs": [],
   "source": [
    "# import module\n",
    "from pdf2image import convert_from_path\n",
    "def convert_pdf2jpeg(filename):\n",
    "    # filename string input for fileename on local, loads pdf pages from file \n",
    "    images = convert_from_path(filename)\n",
    "    # assess pages and save all pages in jpeg format\n",
    "    for i in range(len(images)):\n",
    "        images[i].save(filename+'_page_'+ str(i) +'.jpg', 'JPEG')"
   ]
  },
  {
   "cell_type": "code",
   "execution_count": 9,
   "id": "7bc09c45",
   "metadata": {},
   "outputs": [],
   "source": [
    "from pdf2image import convert_from_path\n",
    "def convert_pdf2png(filename):\n",
    "    # filename string input for fileename on local, loads pdf pages from file \n",
    "    images = convert_from_path(filename)\n",
    "    # assess pages and save all pages in png format\n",
    "    for i in range(len(images)):\n",
    "        images[i].save(filename+'_page_'+ str(i) +'.png', 'PNG')"
   ]
  },
  {
   "cell_type": "code",
   "execution_count": 3,
   "id": "3ede5477",
   "metadata": {},
   "outputs": [],
   "source": [
    "convert_pdf2jpeg('Package.pdf')"
   ]
  },
  {
   "cell_type": "code",
   "execution_count": null,
   "id": "b5bd4524",
   "metadata": {},
   "outputs": [],
   "source": []
  }
 ],
 "metadata": {
  "kernelspec": {
   "display_name": "Python 3",
   "language": "python",
   "name": "python3"
  },
  "language_info": {
   "codemirror_mode": {
    "name": "ipython",
    "version": 3
   },
   "file_extension": ".py",
   "mimetype": "text/x-python",
   "name": "python",
   "nbconvert_exporter": "python",
   "pygments_lexer": "ipython3",
   "version": "3.8.5"
  }
 },
 "nbformat": 4,
 "nbformat_minor": 5
}
