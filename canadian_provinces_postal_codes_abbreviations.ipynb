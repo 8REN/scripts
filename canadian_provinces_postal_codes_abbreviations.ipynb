{
 "cells": [
  {
   "cell_type": "code",
   "execution_count": 1,
   "id": "gothic-warning",
   "metadata": {},
   "outputs": [],
   "source": [
    "code_to_province_dict = {\n",
    "          'AB': 'Alberta',\n",
    "          'BC': 'British Columbia',\n",
    "          'MB': 'Manitoba',\n",
    "          'NB': 'New Brunswick',\n",
    "          'NL': 'Newfoundland and Labrador',\n",
    "          'NS': 'Nova Scotia',\n",
    "          'NT': 'Northwest Territories',\n",
    "          'NU': 'Nunavut',\n",
    "          'ON': 'Ontario',\n",
    "          'PE': 'Prince Edward Island',\n",
    "          'QC': 'Quebec',\n",
    "          'SK': 'Saskatchewan',\n",
    "          'YT': 'Yukon'\n",
    "}"
   ]
  },
  {
   "cell_type": "code",
   "execution_count": 5,
   "id": "sweet-discussion",
   "metadata": {},
   "outputs": [],
   "source": [
    "province_to_code_dict = {\n",
    "     'Alberta': 'AB',\n",
    "     'British Columbia': 'BC',\n",
    "     'Manitoba': 'MB',\n",
    "     'New Brunswick': 'NB',\n",
    "     'Newfoundland and Labrador': 'NL',\n",
    "     'Nova Scotia': 'NS',\n",
    "     'Northwest Territories': 'NT',\n",
    "     'Nunavut': 'NU',\n",
    "     'Ontario': 'ON',\n",
    "     'Prince Edward Island': 'PE',\n",
    "     'Quebec': 'QC',\n",
    "     'Saskatchewan': 'SK',\n",
    "     'Yukon': 'YT'\n",
    "    }"
   ]
  },
  {
   "cell_type": "code",
   "execution_count": null,
   "id": "encouraging-visiting",
   "metadata": {},
   "outputs": [],
   "source": []
  }
 ],
 "metadata": {
  "kernelspec": {
   "display_name": "Python 3",
   "language": "python",
   "name": "python3"
  },
  "language_info": {
   "codemirror_mode": {
    "name": "ipython",
    "version": 3
   },
   "file_extension": ".py",
   "mimetype": "text/x-python",
   "name": "python",
   "nbconvert_exporter": "python",
   "pygments_lexer": "ipython3",
   "version": "3.8.5"
  }
 },
 "nbformat": 4,
 "nbformat_minor": 5
}
