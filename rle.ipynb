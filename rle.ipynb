{
 "cells": [
  {
   "cell_type": "code",
   "execution_count": 82,
   "metadata": {},
   "outputs": [],
   "source": [
    "def rle_for_loop(str_input):\n",
    "    encoded_string, prev_char, count = '', '', 1\n",
    "    if not str_input: return ''\n",
    "    for char in str_input:\n",
    "        if char != prev_char:\n",
    "            if prev_char:\n",
    "                encoded_string += str(count) + prev_char\n",
    "            count = 1\n",
    "            prev_char = char\n",
    "        else:\n",
    "            count += 1\n",
    "    else:\n",
    "        encoded_string += str(count) + prev_char\n",
    "        return encoded_string"
   ]
  },
  {
   "cell_type": "code",
   "execution_count": 83,
   "metadata": {},
   "outputs": [
    {
     "data": {
      "text/plain": [
       "'1b'"
      ]
     },
     "execution_count": 83,
     "metadata": {},
     "output_type": "execute_result"
    }
   ],
   "source": [
    "rle_for_loop('b')"
   ]
  },
  {
   "cell_type": "code",
   "execution_count": 84,
   "metadata": {},
   "outputs": [
    {
     "data": {
      "text/plain": [
       "'1b1l1a1h1 1b1l1a1h1 1b1r1e2n2a2n'"
      ]
     },
     "execution_count": 84,
     "metadata": {},
     "output_type": "execute_result"
    }
   ],
   "source": [
    "rle_for_loop('blah blah brennan')"
   ]
  },
  {
   "cell_type": "code",
   "execution_count": 94,
   "metadata": {},
   "outputs": [],
   "source": [
    "def rle_compress(str_input: str) -> bytes:\n",
    "    encoded_string, prev_char, count = '', '', 1\n",
    "    if not str_input: return bytes('', 'utf-8')\n",
    "    for char in str_input:\n",
    "        if prev_char:\n",
    "            if char != prev_char:\n",
    "                count = 1\n",
    "                encoded_string += str(count) + char\n",
    "                prev_char = char\n",
    "            else:\n",
    "                count += 1\n",
    "        else:\n",
    "            encoded_string += str(count) + prev_char\n",
    "    print(encoded_string)\n",
    "    return encoded_string.encode('utf-16')"
   ]
  },
  {
   "cell_type": "code",
   "execution_count": 95,
   "metadata": {},
   "outputs": [
    {
     "name": "stdout",
     "output_type": "stream",
     "text": [
      "1\n"
     ]
    },
    {
     "data": {
      "text/plain": [
       "b'\\xff\\xfe1\\x00'"
      ]
     },
     "execution_count": 95,
     "metadata": {},
     "output_type": "execute_result"
    }
   ],
   "source": [
    "rle_compress('b')"
   ]
  },
  {
   "cell_type": "code",
   "execution_count": 96,
   "metadata": {},
   "outputs": [
    {
     "name": "stdout",
     "output_type": "stream",
     "text": [
      "11111111111111111\n"
     ]
    },
    {
     "data": {
      "text/plain": [
       "b'\\xff\\xfe1\\x001\\x001\\x001\\x001\\x001\\x001\\x001\\x001\\x001\\x001\\x001\\x001\\x001\\x001\\x001\\x001\\x00'"
      ]
     },
     "execution_count": 96,
     "metadata": {},
     "output_type": "execute_result"
    }
   ],
   "source": [
    "rle_compress('blah blah brennan')"
   ]
  },
  {
   "cell_type": "code",
   "execution_count": 73,
   "metadata": {},
   "outputs": [],
   "source": [
    "def rle_while_loop(str_input):\n",
    "    encoded_string = \"\"\n",
    "    j = 0\n",
    "    while j < len(str_input):\n",
    "        count = 1\n",
    "        while j + 1 < len(str_input):\n",
    "            while str_input[j] == str_input[j + 1]:\n",
    "                count += 1\n",
    "                j += 1\n",
    "        encoded_string += str(count) + str_input[j]\n",
    "        j += 1\n",
    "    print(encoded_string)\n",
    "    return encoded_string.encode('utf-16')\n",
    "    "
   ]
  },
  {
   "cell_type": "code",
   "execution_count": 74,
   "metadata": {},
   "outputs": [
    {
     "name": "stdout",
     "output_type": "stream",
     "text": [
      "1b\n"
     ]
    },
    {
     "data": {
      "text/plain": [
       "b'\\xff\\xfe1\\x00b\\x00'"
      ]
     },
     "execution_count": 74,
     "metadata": {},
     "output_type": "execute_result"
    }
   ],
   "source": [
    "rle_while_loop('b')"
   ]
  },
  {
   "cell_type": "code",
   "execution_count": 80,
   "metadata": {},
   "outputs": [
    {
     "ename": "KeyboardInterrupt",
     "evalue": "",
     "output_type": "error",
     "traceback": [
      "\u001b[1;31m---------------------------------------------------------------------------\u001b[0m",
      "\u001b[1;31mKeyboardInterrupt\u001b[0m                         Traceback (most recent call last)",
      "\u001b[1;32m<ipython-input-80-ab77b171d3cd>\u001b[0m in \u001b[0;36m<module>\u001b[1;34m\u001b[0m\n\u001b[1;32m----> 1\u001b[1;33m \u001b[0mrle_while_loop\u001b[0m\u001b[1;33m(\u001b[0m\u001b[1;34m'blah blah brennan'\u001b[0m\u001b[1;33m)\u001b[0m\u001b[1;33m\u001b[0m\u001b[1;33m\u001b[0m\u001b[0m\n\u001b[0m",
      "\u001b[1;32m<ipython-input-73-422bbd31729f>\u001b[0m in \u001b[0;36mrle_while_loop\u001b[1;34m(str_input)\u001b[0m\n\u001b[0;32m      5\u001b[0m         \u001b[0mcount\u001b[0m \u001b[1;33m=\u001b[0m \u001b[1;36m1\u001b[0m\u001b[1;33m\u001b[0m\u001b[1;33m\u001b[0m\u001b[0m\n\u001b[0;32m      6\u001b[0m         \u001b[1;32mwhile\u001b[0m \u001b[0mj\u001b[0m \u001b[1;33m+\u001b[0m \u001b[1;36m1\u001b[0m \u001b[1;33m<\u001b[0m \u001b[0mlen\u001b[0m\u001b[1;33m(\u001b[0m\u001b[0mstr_input\u001b[0m\u001b[1;33m)\u001b[0m\u001b[1;33m:\u001b[0m\u001b[1;33m\u001b[0m\u001b[1;33m\u001b[0m\u001b[0m\n\u001b[1;32m----> 7\u001b[1;33m             \u001b[1;32mwhile\u001b[0m \u001b[0mstr_input\u001b[0m\u001b[1;33m[\u001b[0m\u001b[0mj\u001b[0m\u001b[1;33m]\u001b[0m \u001b[1;33m==\u001b[0m \u001b[0mstr_input\u001b[0m\u001b[1;33m[\u001b[0m\u001b[0mj\u001b[0m \u001b[1;33m+\u001b[0m \u001b[1;36m1\u001b[0m\u001b[1;33m]\u001b[0m\u001b[1;33m:\u001b[0m\u001b[1;33m\u001b[0m\u001b[1;33m\u001b[0m\u001b[0m\n\u001b[0m\u001b[0;32m      8\u001b[0m                 \u001b[0mcount\u001b[0m \u001b[1;33m+=\u001b[0m \u001b[1;36m1\u001b[0m\u001b[1;33m\u001b[0m\u001b[1;33m\u001b[0m\u001b[0m\n\u001b[0;32m      9\u001b[0m                 \u001b[0mj\u001b[0m \u001b[1;33m+=\u001b[0m \u001b[1;36m1\u001b[0m\u001b[1;33m\u001b[0m\u001b[1;33m\u001b[0m\u001b[0m\n",
      "\u001b[1;31mKeyboardInterrupt\u001b[0m: "
     ]
    }
   ],
   "source": [
    "rle_while_loop('blah blah brennan')"
   ]
  },
  {
   "cell_type": "code",
   "execution_count": 57,
   "metadata": {},
   "outputs": [],
   "source": [
    "from itertools import groupby\n",
    "\n",
    "def rle_lc(str_input):\n",
    "    grouped = [list(g) for k, g in groupby(str_input)]\n",
    "    encoded_string = ''.join(['{}{}'.format(k, sum(1 for _ in g)) for k, g in groupby(str_input)])\n",
    "    print(encoded_string)\n",
    "    return encoded_string.encode('utf-16')"
   ]
  },
  {
   "cell_type": "code",
   "execution_count": null,
   "metadata": {},
   "outputs": [],
   "source": [
    "rle_lc('b')"
   ]
  },
  {
   "cell_type": "code",
   "execution_count": 61,
   "metadata": {},
   "outputs": [
    {
     "name": "stdout",
     "output_type": "stream",
     "text": [
      "k1j1k2\n"
     ]
    },
    {
     "data": {
      "text/plain": [
       "b'\\xff\\xfek\\x001\\x00j\\x001\\x00k\\x002\\x00'"
      ]
     },
     "execution_count": 61,
     "metadata": {},
     "output_type": "execute_result"
    }
   ],
   "source": [
    "rle_lc('blah blah brennan')"
   ]
  },
  {
   "cell_type": "code",
   "execution_count": 62,
   "metadata": {},
   "outputs": [],
   "source": [
    "def rle_gen(str_input: str) -> str:\n",
    "    # returns run length encoded string for data\n",
    "    encoded_string = \"\".join(f\"{x}{sum(1 for _ in y)}\" for x, y in groupby(str_input))\n",
    "    print(encoded_string)\n",
    "    return encoded_string.encode('utf-16')"
   ]
  },
  {
   "cell_type": "code",
   "execution_count": 64,
   "metadata": {},
   "outputs": [
    {
     "name": "stdout",
     "output_type": "stream",
     "text": [
      "k1j1k2\n"
     ]
    },
    {
     "data": {
      "text/plain": [
       "b'\\xff\\xfek\\x001\\x00j\\x001\\x00k\\x002\\x00'"
      ]
     },
     "execution_count": 64,
     "metadata": {},
     "output_type": "execute_result"
    }
   ],
   "source": [
    "rle_gen('b')"
   ]
  },
  {
   "cell_type": "code",
   "execution_count": null,
   "metadata": {},
   "outputs": [],
   "source": [
    "rle_gen('blah blah brennan')"
   ]
  }
 ],
 "metadata": {
  "kernelspec": {
   "display_name": "Python 3",
   "language": "python",
   "name": "python3"
  },
  "language_info": {
   "codemirror_mode": {
    "name": "ipython",
    "version": 3
   },
   "file_extension": ".py",
   "mimetype": "text/x-python",
   "name": "python",
   "nbconvert_exporter": "python",
   "pygments_lexer": "ipython3",
   "version": "3.8.5"
  }
 },
 "nbformat": 4,
 "nbformat_minor": 4
}
