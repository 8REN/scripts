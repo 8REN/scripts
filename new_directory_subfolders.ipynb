{
 "cells": [
  {
   "cell_type": "code",
   "execution_count": 11,
   "id": "independent-plenty",
   "metadata": {},
   "outputs": [],
   "source": [
    "import os\n",
    "import numpy as np\n",
    "\n",
    "def make_folders_from_dir(new_dir, og_dir):\n",
    "        # function creates subfolder structure based on pre-existing directory, in new directory\n",
    "        \n",
    "    # new_dir argument requires string input for target directory path. \n",
    "                         #(ex. audio_path = r\"C:\\Users\\root\\Projects\\new_birds\\train_float\")\n",
    "    # og_dir argument requires string input for original directory path. containing intended subfolder structure \n",
    "                         #(ex. audio_path = r\"C:\\Users\\root\\Projects\\new_birds\\train_float\")\n",
    "    for directory in Path(og_dir).iterdir():\n",
    "        subfolder = directory.name\n",
    "        os.makedirs(f'{new_dir}/{subfolder}')"
   ]
  },
  {
   "cell_type": "code",
   "execution_count": 10,
   "id": "offensive-honduras",
   "metadata": {},
   "outputs": [],
   "source": [
    "import os\n",
    "import numpy as np\n",
    "import pandas as pd\n",
    "\n",
    "def make_folders_from_df(new_dir, df):\n",
    "     # function creates subfolder structure based on unique values from a dataframe, in new directory\n",
    "        \n",
    "     # new_dir argument requires string input for target directory path. (ex. audio_path = r\"C:\\Users\\root\\Projects\\new_birds\\train_float\")\n",
    "     # df argument requires dataframe column containing strings to be used for folder names( ex. train_df.labels)\n",
    "    classes = list(np.unique(df))\n",
    "    for c in classes:\n",
    "        os.makedirs((new_dir)+'\\\\'+(c))\n",
    "        \n"
   ]
  },
  {
   "cell_type": "code",
   "execution_count": null,
   "id": "cooked-supply",
   "metadata": {},
   "outputs": [],
   "source": []
  }
 ],
 "metadata": {
  "kernelspec": {
   "display_name": "Python 3",
   "language": "python",
   "name": "python3"
  },
  "language_info": {
   "codemirror_mode": {
    "name": "ipython",
    "version": 3
   },
   "file_extension": ".py",
   "mimetype": "text/x-python",
   "name": "python",
   "nbconvert_exporter": "python",
   "pygments_lexer": "ipython3",
   "version": "3.8.5"
  }
 },
 "nbformat": 4,
 "nbformat_minor": 5
}
