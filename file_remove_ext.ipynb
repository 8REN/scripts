{
 "cells": [
  {
   "cell_type": "code",
   "execution_count": 1,
   "id": "black-retention",
   "metadata": {},
   "outputs": [],
   "source": [
    "import os\n",
    "from pathlib import Path"
   ]
  },
  {
   "cell_type": "code",
   "execution_count": 2,
   "id": "bottom-latvia",
   "metadata": {},
   "outputs": [],
   "source": [
    "def remove_files_by_ext(directory, file_ext):\n",
    "#     directory should be pathlib Path variable formatted as Path(\"string\"),\n",
    "#     for windows: ex: directory = Path(r\"C:\\Users\\root\\Calibre Library\")\n",
    "#     file_ext argument should be extension formated as string.\n",
    "#     ex: \".epub\" or \".mp3\"\n",
    "#     use at your own risk, as this DELETES the files\n",
    "    for subdir, dirs, files in os.walk(directory):\n",
    "        for file in files:\n",
    "            filepath = subdir + os.sep + file\n",
    "            if filepath.endswith((file_ext)):\n",
    "                os.remove(filepath)"
   ]
  },
  {
   "cell_type": "code",
   "execution_count": 3,
   "id": "criminal-confidentiality",
   "metadata": {},
   "outputs": [],
   "source": [
    "# to run script, removing all files with the file extension declared: \n",
    "# remove_files_by_ext(directory=Path(r\"C:\\Users\\root\\Calibre Library\"), file_ext=\".epub\") "
   ]
  }
 ],
 "metadata": {
  "kernelspec": {
   "display_name": "Python 3",
   "language": "python",
   "name": "python3"
  },
  "language_info": {
   "codemirror_mode": {
    "name": "ipython",
    "version": 3
   },
   "file_extension": ".py",
   "mimetype": "text/x-python",
   "name": "python",
   "nbconvert_exporter": "python",
   "pygments_lexer": "ipython3",
   "version": "3.8.5"
  }
 },
 "nbformat": 4,
 "nbformat_minor": 5
}
